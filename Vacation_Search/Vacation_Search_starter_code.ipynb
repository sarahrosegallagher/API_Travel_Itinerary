{
 "cells": [
  {
   "cell_type": "markdown",
   "metadata": {},
   "source": [
    "## Deliverable 2. Create a Customer Travel Destinations Map."
   ]
  },
  {
   "cell_type": "code",
   "execution_count": null,
   "metadata": {},
   "outputs": [],
   "source": [
    "# Dependencies and Setup\n",
    "import pandas as pd\n",
    "import requests\n",
    "import gmaps\n",
    "\n",
    "# Import API key\n",
    "import sys\n",
    "sys.path.append(\"..\")\n",
    "from config import gkey\n",
    "\n",
    "# Configure gmaps API key\n",
    "gmaps.configure(api_key=gkey)"
   ]
  },
  {
   "cell_type": "code",
   "execution_count": null,
   "metadata": {},
   "outputs": [],
   "source": [
    "# 1. Import the WeatherPy_database.csv file. \n",
    "city_data_df = pd.read_csv(\"../Weather_Database/WeatherPy_Database.csv\")\n",
    "city_data_df"
   ]
  },
  {
   "cell_type": "code",
   "execution_count": null,
   "metadata": {},
   "outputs": [],
   "source": [
    "# 2. Prompt the user to enter minimum and maximum temperature criteria \n",
    "min_temp = float(input(\"What is the minimum temperature you would like for your trip?\"))\n",
    "\n",
    "max_temp = float(input(\"What is the maximum temperature you would like for your trip?\"))"
   ]
  },
  {
   "cell_type": "code",
   "execution_count": null,
   "metadata": {},
   "outputs": [],
   "source": [
    "# 3. Filter the city_data_df DataFrame using the input statements to create a new DataFrame using the loc method.\n",
    "preferred_city_data_df = city_data_df.loc[(city_data_df[\"Max Temp\"]<= max_temp) &\n",
    "                    (city_data_df[\"Max Temp\"]>= min_temp)]\n",
    "\n",
    "preferred_city_data_df"
   ]
  },
  {
   "cell_type": "code",
   "execution_count": null,
   "metadata": {},
   "outputs": [],
   "source": [
    "# 4a. Determine if there are any empty rows.\n",
    "preferred_city_data_df.count()"
   ]
  },
  {
   "cell_type": "code",
   "execution_count": null,
   "metadata": {},
   "outputs": [],
   "source": [
    "# 4b. Drop any empty rows and create a new DataFrame that doesn’t have empty rows.\n",
    "clean_df = preferred_city_data_df.dropna()\n",
    "\n",
    "clean_df"
   ]
  },
  {
   "cell_type": "code",
   "execution_count": null,
   "metadata": {},
   "outputs": [],
   "source": [
    "# 5a. Create DataFrame called hotel_df to store hotel names along with city, country, max temp, and coordinates.\n",
    "hotel_df = clean_df[[\"City\", \"Country\", \"Max Temp\", \"Description\", \"Lat\", \"Lng\"]].copy()\n",
    "\n",
    "# 5b. Create a new column \"Hotel Name\"\n",
    "hotel_df[\"Hotel Name\"] = \" \"\n",
    "hotel_df"
   ]
  },
  {
   "cell_type": "code",
   "execution_count": null,
   "metadata": {},
   "outputs": [],
   "source": [
    "base_url = \"https://maps.googleapis.com/maps/api/place/nearbysearch/json\"\n",
    "\n",
    "params = {\n",
    "# \"location\" : city,\n",
    "\"radius\": 5000,\n",
    "\"type\": \"lodging\",\n",
    "\"key\": gkey }\n",
    "\n",
    "#use iterrows\n",
    "\n",
    "for index, row in hotel_df.iterrows():\n",
    "    \n",
    "    #get lat and lng from df \n",
    "    lat = row[\"Lat\"]\n",
    "    lng = row[\"Lng\"]\n",
    "\n",
    "    city = row[\"City\"]\n",
    "\n",
    "    #add location to params\n",
    "    params[\"location\"] = f\"{lat},{lng}\" \n",
    "\n",
    "    #url and api request\n",
    "\n",
    "    print(f\"Retrieving Results for Index{index}: {city} .\")\n",
    "\n",
    "    response = requests.get(base_url, params=params).json()\n",
    "\n",
    "    #extract\n",
    "    results = response[\"results\"]\n",
    "\n",
    "    try:\n",
    "        print(f\"{results[0]['name']} in {city}.\")\n",
    "\n",
    "        hotel_df.loc[index, \"Hotel Name\"] = results[0][\"name\"]\n",
    "    \n",
    "    except:\n",
    "        print(\"Could not find result...skipping.\")\n",
    "\n",
    "    print()"
   ]
  },
  {
   "cell_type": "code",
   "execution_count": null,
   "metadata": {},
   "outputs": [],
   "source": [
    "#error: could not find hotel for any country - what is error in code? (same error as previous activity)\n",
    "#  #set up base url \n",
    "# base_url = \"https://maps.googleapis.com/maps/api/place/nearbysearch/json\"\n",
    "\n",
    "# # 6a. Set parameters to search for hotels with 5000 meters.\n",
    "# params = {\n",
    "#     \"radius\": 5000,\n",
    "#     \"type\": \"lodging\",\n",
    "#     \"key\": gkey\n",
    "# }\n",
    "\n",
    "# # 6b. Iterate through the hotel DataFrame.\n",
    "# for index, row in hotel_df.iterrows():\n",
    "#     # 6c. Get latitude and longitude from DataFrame\n",
    "#     lat = row[\"Lat\"]\n",
    "#     lng = row[\"Lng\"]\n",
    "\n",
    "#     city = row[\"City\"]\n",
    "    \n",
    "#     print(f\"Retrieving Results for Index{index}: {city} .\")\n",
    "\n",
    "#     # 6d. Set up the base URL for the Google Directions API to get JSON data.\n",
    "#     response = requests.get(base_url, params=params).json()\n",
    "\n",
    "#     # 6e. Make request and retrieve the JSON data from the search. \n",
    "    \n",
    "#     # 6f. Get the first hotel from the results and store the name, if a hotel isn't found skip the city.\n",
    "#     #extract\n",
    "#     results = response[\"results\"]\n",
    "\n",
    "#     try:\n",
    "#         print(f\"{results[0]['name']} in {city}.\")\n",
    "\n",
    "#         hotel_df.loc[index, \"Hotel Name\"] = results[0][\"name\"]\n",
    "    \n",
    "#     except:\n",
    "#         print(\"Could not find result...skipping.\")\n",
    "\n",
    "#     print()\n",
    "        "
   ]
  },
  {
   "cell_type": "code",
   "execution_count": null,
   "metadata": {},
   "outputs": [],
   "source": [
    "# 7. Drop the rows where there is no Hotel Name.\n",
    "clean_hotel_df = hotel_df.dropna()"
   ]
  },
  {
   "cell_type": "code",
   "execution_count": null,
   "metadata": {},
   "outputs": [],
   "source": [
    "# 8a. Create the output File (CSV)\n",
    "output_data_file = \"Hotel DataFrame\"\n",
    "\n",
    "# 8b. Export the City_Data into a csv\n",
    "clean_hotel_df.to_csv(output_data_file, index_label=\"City_ID\")"
   ]
  },
  {
   "cell_type": "code",
   "execution_count": null,
   "metadata": {},
   "outputs": [],
   "source": [
    "# 9. Using the template add city name, the country code, the weather description and maximum temperature for the city.\n",
    "info_box_template = \"\"\"\n",
    "<dl>\n",
    "<dt>Hotel Name</dt><dd>{Hotel Name}</dd>\n",
    "<dt>City</dt><dd>{City}</dd>\n",
    "<dt>Country</dt><dd>{Country}</dd>\n",
    "<dt>Max Temp</dt><dd>{Max Temp} °F</dd>\n",
    "<dt>Weather Description</dt><dd>{Description} °F</dd>\n",
    "</dl>\n",
    "\"\"\"\n",
    "\n",
    "# 10a. Get the data from each row and add it to the formatting template and store the data in a list.\n",
    "hotel_info = [info_box_template.format(**row) for index, row in clean_hotel_df.iterrows()]\n",
    "\n",
    "# 10b. Get the latitude and longitude from each row and store in a new DataFrame.\n",
    "locations = clean_hotel_df[[\"Lat\", \"Lng\"]]"
   ]
  },
  {
   "cell_type": "code",
   "execution_count": null,
   "metadata": {},
   "outputs": [],
   "source": [
    "# 11a. Add a marker layer for each city to the map. \n",
    "locations = hotel_df[[\"Lat\", \"Lng\"]]\n",
    "max_temp = hotel_df[\"Max Temp\"]\n",
    "\n",
    "#figure variable (plus center and zoom)\n",
    "fig = gmaps.figure(center=(30.0, 31.0), zoom_level =1.5)\n",
    "\n",
    "#add heatlayer w variables (plus list comprehension, intensity, point radius)\n",
    "heatmap_layer = gmaps.heatmap_layer(locations, weights=[max(temp, 0) for temp in max_temp], dissipating=False, max_intensity=300, point_radius=4)\n",
    "fig.add_layer(heatmap_layer)\n",
    "\n",
    "#marker layer\n",
    "marker_layer = gmaps.marker_layer(locations, info_box_content=hotel_info)\n",
    "fig.add_layer(marker_layer)\n",
    "\n",
    "\n",
    "# 11b. Display the figure\n",
    "fig "
   ]
  },
  {
   "cell_type": "code",
   "execution_count": null,
   "metadata": {},
   "outputs": [],
   "source": []
  },
  {
   "cell_type": "code",
   "execution_count": null,
   "metadata": {},
   "outputs": [],
   "source": []
  }
 ],
 "metadata": {
  "kernelspec": {
   "display_name": "PythonData",
   "language": "python",
   "name": "pythondata"
  },
  "language_info": {
   "codemirror_mode": {
    "name": "ipython",
    "version": 3
   },
   "file_extension": ".py",
   "mimetype": "text/x-python",
   "name": "python",
   "nbconvert_exporter": "python",
   "pygments_lexer": "ipython3",
   "version": "3.7.11"
  },
  "latex_envs": {
   "LaTeX_envs_menu_present": true,
   "autoclose": false,
   "autocomplete": true,
   "bibliofile": "biblio.bib",
   "cite_by": "apalike",
   "current_citInitial": 1,
   "eqLabelWithNumbers": true,
   "eqNumInitial": 1,
   "hotkeys": {
    "equation": "Ctrl-E",
    "itemize": "Ctrl-I"
   },
   "labels_anchors": false,
   "latex_user_defs": false,
   "report_style_numbering": false,
   "user_envs_cfg": false
  }
 },
 "nbformat": 4,
 "nbformat_minor": 2
}
